{
 "cells": [
  {
   "attachments": {
    "codecademy%20resize%20jn.png": {
     "image/png": "[encoded data removed]"
    }
   },
   "cell_type": "markdown",
   "id": "859d2b60",
   "metadata": {},
   "source": [
    "---\n",
    "\n",
    "![codecademy%20resize%20jn.png](attachment:codecademy%20resize%20jn.png)\n",
    "\n",
    "---"
   ]
  },
  {
   "cell_type": "markdown",
   "id": "67cb6a23",
   "metadata": {},
   "source": [
    "## Pandas Basic Lambdas and Manipulation\n"
   ]
  },
  {
   "cell_type": "markdown",
   "id": "8bbb3a6e",
   "metadata": {},
   "source": [
    "Darren Lewis"
   ]
  },
  {
   "cell_type": "code",
   "execution_count": 2,
   "id": "23d94b71",
   "metadata": {},
   "outputs": [],
   "source": [
    "import pandas as pd\n",
    "\n",
    "inventory = pd.read_csv('pedal_power.csv')"
   ]
  },
  {
   "cell_type": "code",
   "execution_count": 5,
   "id": "437c0afe",
   "metadata": {},
   "outputs": [
    {
     "name": "stdout",
     "output_type": "stream",
     "text": [
      "         location  product_type         product_description  quantity  price\n",
      "0   Staten Island         seeds                       daisy         4   6.99\n",
      "1   Staten Island         seeds                  calla lily        46  19.99\n",
      "2   Staten Island         seeds                      tomato        85  13.99\n",
      "3   Staten Island  garden tools                        rake         4  13.99\n",
      "4   Staten Island  garden tools                 wheelbarrow         0  89.99\n",
      "5   Staten Island  garden tools                       spade        93  19.99\n",
      "6   Staten Island  pest_control               insect killer        74  12.99\n",
      "7   Staten Island  pest_control                 weed killer         8  23.99\n",
      "8   Staten Island       planter  20 inch terracotta planter         0  17.99\n",
      "9   Staten Island       planter      8 inch plastic planter        53   3.99\n",
      "10       Brooklyn         seeds                       daisy        50   6.99\n",
      "11       Brooklyn         seeds                  calla lily         0  19.99\n",
      "12       Brooklyn         seeds                      tomato         0  13.99\n",
      "13       Brooklyn  garden tools                        rake        15  13.99\n",
      "14       Brooklyn  garden tools                 wheelbarrow        82  89.99\n"
     ]
    }
   ],
   "source": [
    "print(inventory.head(15))"
   ]
  },
  {
   "cell_type": "code",
   "execution_count": 9,
   "id": "035d0168",
   "metadata": {},
   "outputs": [
    {
     "name": "stdout",
     "output_type": "stream",
     "text": [
      "        location  product_type         product_description  quantity  price\n",
      "0  Staten Island         seeds                       daisy         4   6.99\n",
      "1  Staten Island         seeds                  calla lily        46  19.99\n",
      "2  Staten Island         seeds                      tomato        85  13.99\n",
      "3  Staten Island  garden tools                        rake         4  13.99\n",
      "4  Staten Island  garden tools                 wheelbarrow         0  89.99\n",
      "5  Staten Island  garden tools                       spade        93  19.99\n",
      "6  Staten Island  pest_control               insect killer        74  12.99\n",
      "7  Staten Island  pest_control                 weed killer         8  23.99\n",
      "8  Staten Island       planter  20 inch terracotta planter         0  17.99\n",
      "9  Staten Island       planter      8 inch plastic planter        53   3.99\n"
     ]
    }
   ],
   "source": [
    "staten_island = inventory[:10]\n",
    "print(staten_island)"
   ]
  },
  {
   "cell_type": "code",
   "execution_count": 11,
   "id": "01ade986",
   "metadata": {},
   "outputs": [
    {
     "name": "stdout",
     "output_type": "stream",
     "text": [
      "    location product_type product_description  quantity  price\n",
      "10  Brooklyn        seeds               daisy        50   6.99\n",
      "11  Brooklyn        seeds          calla lily         0  19.99\n",
      "12  Brooklyn        seeds              tomato         0  13.99\n"
     ]
    }
   ],
   "source": [
    "seed_request = inventory[(inventory.location == 'Brooklyn') & (inventory.product_type == 'seeds')]\n",
    "print(seed_request)"
   ]
  },
  {
   "cell_type": "code",
   "execution_count": 13,
   "id": "1c6366dc",
   "metadata": {},
   "outputs": [
    {
     "name": "stdout",
     "output_type": "stream",
     "text": [
      "        location product_type product_description  quantity  price  in_stock\n",
      "0  Staten Island        seeds               daisy         4   6.99      True\n",
      "1  Staten Island        seeds          calla lily        46  19.99      True\n",
      "2  Staten Island        seeds              tomato        85  13.99      True\n"
     ]
    }
   ],
   "source": [
    "inventory['in_stock'] = inventory.quantity.apply(lambda x: True if x > 0 else False) \n",
    "\n",
    "print(inventory.head(3))"
   ]
  },
  {
   "cell_type": "code",
   "execution_count": 15,
   "id": "eecd023d",
   "metadata": {},
   "outputs": [
    {
     "name": "stdout",
     "output_type": "stream",
     "text": [
      "        location product_type product_description  quantity  price  in_stock  \\\n",
      "0  Staten Island        seeds               daisy         4   6.99      True   \n",
      "1  Staten Island        seeds          calla lily        46  19.99      True   \n",
      "2  Staten Island        seeds              tomato        85  13.99      True   \n",
      "\n",
      "   total_value  \n",
      "0        27.96  \n",
      "1       919.54  \n",
      "2      1189.15  \n"
     ]
    }
   ],
   "source": [
    "inventory['total_value'] = inventory.apply(lambda row:round(row['price'],2) * row['quantity'],axis=1\n",
    ")\n",
    "print(inventory.head(3))"
   ]
  },
  {
   "cell_type": "code",
   "execution_count": 19,
   "id": "2f97fcda",
   "metadata": {},
   "outputs": [
    {
     "name": "stdout",
     "output_type": "stream",
     "text": [
      "        location  product_type         product_description  quantity  price  \\\n",
      "0  Staten Island         seeds                       daisy         4   6.99   \n",
      "1  Staten Island         seeds                  calla lily        46  19.99   \n",
      "2  Staten Island         seeds                      tomato        85  13.99   \n",
      "3  Staten Island  garden tools                        rake         4  13.99   \n",
      "4  Staten Island  garden tools                 wheelbarrow         0  89.99   \n",
      "5  Staten Island  garden tools                       spade        93  19.99   \n",
      "6  Staten Island  pest_control               insect killer        74  12.99   \n",
      "7  Staten Island  pest_control                 weed killer         8  23.99   \n",
      "8  Staten Island       planter  20 inch terracotta planter         0  17.99   \n",
      "9  Staten Island       planter      8 inch plastic planter        53   3.99   \n",
      "\n",
      "   in_stock  total_value                      full_description  \n",
      "0      True        27.96                         seeds - daisy  \n",
      "1      True       919.54                    seeds - calla lily  \n",
      "2      True      1189.15                        seeds - tomato  \n",
      "3      True        55.96                   garden tools - rake  \n",
      "4     False         0.00            garden tools - wheelbarrow  \n",
      "5      True      1859.07                  garden tools - spade  \n",
      "6      True       961.26          pest_control - insect killer  \n",
      "7      True       191.92            pest_control - weed killer  \n",
      "8     False         0.00  planter - 20 inch terracotta planter  \n",
      "9      True       211.47      planter - 8 inch plastic planter  \n"
     ]
    }
   ],
   "source": [
    "combine_lambda = lambda row: \\\n",
    "    '{} - {}'.format(row.product_type,\n",
    "                     row.product_description)\n",
    "\n",
    "inventory['full_description'] = inventory.apply(combine_lambda,axis=1)\n",
    "print(inventory.head(10))"
   ]
  }
 ],
 "metadata": {
  "kernelspec": {
   "display_name": "Python 3 (ipykernel)",
   "language": "python",
   "name": "python3"
  },
  "language_info": {
   "codemirror_mode": {
    "name": "ipython",
    "version": 3
   },
   "file_extension": ".py",
   "mimetype": "text/x-python",
   "name": "python",
   "nbconvert_exporter": "python",
   "pygments_lexer": "ipython3",
   "version": "3.10.9"
  }
 },
 "nbformat": 4,
 "nbformat_minor": 5
}
