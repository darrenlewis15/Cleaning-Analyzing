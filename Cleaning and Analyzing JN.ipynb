{
 "cells": [
  {
   "cell_type": "markdown",
   "id": "42ebf3a6",
   "metadata": {},
   "source": [
    "# Cleaning, Analyzing, and Forming Dirty Data"
   ]
  },
  {
   "cell_type": "markdown",
   "id": "7fdabfc2",
   "metadata": {},
   "source": [
    "Using Python to create and clean lists and do some data analyzation/exploration"
   ]
  },
  {
   "cell_type": "markdown",
   "id": "b43c5043",
   "metadata": {},
   "source": [
    "## This is our starting string of dirty medical data."
   ]
  },
  {
   "cell_type": "code",
   "execution_count": 47,
   "id": "98d79856",
   "metadata": {},
   "outputs": [],
   "source": [
    "medical_data = \\\n",
    "\"\"\"Marina Allison   ,27   ,   31.1 , \n",
    "#7010.0   ;Markus Valdez   ,   30, \n",
    "22.4,   #4050.0 ;Connie Ballard ,43 \n",
    ",   25.3 , #12060.0 ;Darnell Weber   \n",
    ",   35   , 20.6   , #7500.0;\n",
    "Sylvie Charles   ,22, 22.1 \n",
    ",#3022.0   ;   Vinay Padilla,24,   \n",
    "26.9 ,#4620.0 ;Meredith Santiago, 51   , \n",
    "29.3 ,#16330.0;   Andre Mccarty, \n",
    "19,22.7 , #2900.0 ; \n",
    "Lorena Hodson ,65, 33.1 , #19370.0; \n",
    "Isaac Vu ,34, 24.8,   #7045.0\"\"\"\n"
   ]
  },
  {
   "cell_type": "markdown",
   "id": "027929c1",
   "metadata": {},
   "source": [
    "Changing # to $ for better readability."
   ]
  },
  {
   "cell_type": "code",
   "execution_count": 48,
   "id": "0fafcc50",
   "metadata": {},
   "outputs": [
    {
     "name": "stdout",
     "output_type": "stream",
     "text": [
      "Marina Allison   ,27   ,   31.1 , \n",
      "$7010.0   ;Markus Valdez   ,   30, \n",
      "22.4,   $4050.0 ;Connie Ballard ,43 \n",
      ",   25.3 , $12060.0 ;Darnell Weber   \n",
      ",   35   , 20.6   , $7500.0;\n",
      "Sylvie Charles   ,22, 22.1 \n",
      ",$3022.0   ;   Vinay Padilla,24,   \n",
      "26.9 ,$4620.0 ;Meredith Santiago, 51   , \n",
      "29.3 ,$16330.0;   Andre Mccarty, \n",
      "19,22.7 , $2900.0 ; \n",
      "Lorena Hodson ,65, 33.1 , $19370.0; \n",
      "Isaac Vu ,34, 24.8,   $7045.0\n"
     ]
    }
   ],
   "source": [
    "updated_medical_data = medical_data.replace(\"#\",\"$\")\n",
    "print(updated_medical_data)"
   ]
  },
  {
   "cell_type": "markdown",
   "id": "c8077148",
   "metadata": {},
   "source": [
    "Finding the # of records"
   ]
  },
  {
   "cell_type": "code",
   "execution_count": 49,
   "id": "7d5aaabf",
   "metadata": {},
   "outputs": [
    {
     "name": "stdout",
     "output_type": "stream",
     "text": [
      "10\n"
     ]
    }
   ],
   "source": [
    "num_records = 0\n",
    "for x in updated_medical_data:\n",
    "    if x == \"$\":\n",
    "        num_records+=1\n",
    "print(num_records)"
   ]
  },
  {
   "cell_type": "code",
   "execution_count": 5,
   "id": "6638542f",
   "metadata": {},
   "outputs": [
    {
     "name": "stdout",
     "output_type": "stream",
     "text": [
      "There are 10 medical records in the data.\n"
     ]
    }
   ],
   "source": [
    "print(\"There are {} medical records in the data.\".format(num_records))"
   ]
  },
  {
   "cell_type": "markdown",
   "id": "10897f50",
   "metadata": {},
   "source": [
    "## Splitting the strings into lists"
   ]
  },
  {
   "cell_type": "markdown",
   "id": "d873eda7",
   "metadata": {},
   "source": [
    "Everything between semicolons is made into its own string"
   ]
  },
  {
   "cell_type": "code",
   "execution_count": 6,
   "id": "76cae5e8",
   "metadata": {},
   "outputs": [
    {
     "name": "stdout",
     "output_type": "stream",
     "text": [
      "['Marina Allison   ,27   ,   31.1 , \\n$7010.0   ', 'Markus Valdez   ,   30, \\n22.4,   $4050.0 ', 'Connie Ballard ,43 \\n,   25.3 , $12060.0 ', 'Darnell Weber   \\n,   35   , 20.6   , $7500.0', '\\nSylvie Charles   ,22, 22.1 \\n,$3022.0   ', '   Vinay Padilla,24,   \\n26.9 ,$4620.0 ', 'Meredith Santiago, 51   , \\n29.3 ,$16330.0', '   Andre Mccarty, \\n19,22.7 , $2900.0 ', ' \\nLorena Hodson ,65, 33.1 , $19370.0', ' \\nIsaac Vu ,34, 24.8,   $7045.0']\n"
     ]
    }
   ],
   "source": [
    "medical_data_split = updated_medical_data.split(\";\")\n",
    "print(medical_data_split)"
   ]
  },
  {
   "cell_type": "markdown",
   "id": "1eb23af4",
   "metadata": {},
   "source": [
    "seperating the strings into a list of lists"
   ]
  },
  {
   "cell_type": "code",
   "execution_count": 7,
   "id": "434ed907",
   "metadata": {},
   "outputs": [],
   "source": [
    "medical_records = []"
   ]
  },
  {
   "cell_type": "markdown",
   "id": "1d28c632",
   "metadata": {},
   "source": [
    "8. Next, iterate through `medical_data_split` and for each record, split the string after each comma (`,`) and append the split string to `medical_records`.\n",
    "\n",
    "   Print `medical_records` after the loop."
   ]
  },
  {
   "cell_type": "code",
   "execution_count": 8,
   "id": "d57c33b1",
   "metadata": {
    "scrolled": false
   },
   "outputs": [
    {
     "name": "stdout",
     "output_type": "stream",
     "text": [
      "[['Marina Allison   ', '27   ', '   31.1 ', ' \\n$7010.0   '], ['Markus Valdez   ', '   30', ' \\n22.4', '   $4050.0 '], ['Connie Ballard ', '43 \\n', '   25.3 ', ' $12060.0 '], ['Darnell Weber   \\n', '   35   ', ' 20.6   ', ' $7500.0'], ['\\nSylvie Charles   ', '22', ' 22.1 \\n', '$3022.0   '], ['   Vinay Padilla', '24', '   \\n26.9 ', '$4620.0 '], ['Meredith Santiago', ' 51   ', ' \\n29.3 ', '$16330.0'], ['   Andre Mccarty', ' \\n19', '22.7 ', ' $2900.0 '], [' \\nLorena Hodson ', '65', ' 33.1 ', ' $19370.0'], [' \\nIsaac Vu ', '34', ' 24.8', '   $7045.0']]\n"
     ]
    }
   ],
   "source": [
    "for x in medical_data_split:\n",
    "    medical_records.append(x.split(\",\"))\n",
    "print(medical_records)"
   ]
  },
  {
   "cell_type": "markdown",
   "id": "82da2380",
   "metadata": {},
   "source": [
    "## Cleaning the lists"
   ]
  },
  {
   "cell_type": "markdown",
   "id": "5e07b261",
   "metadata": {},
   "source": [
    "Using comprehensions to Iterate through the lists using strip to remove whitepace and line breaks."
   ]
  },
  {
   "cell_type": "code",
   "execution_count": 9,
   "id": "fe45e1b0",
   "metadata": {},
   "outputs": [],
   "source": [
    "medical_records_clean = []"
   ]
  },
  {
   "cell_type": "markdown",
   "id": "6c27f1d8",
   "metadata": {},
   "source": [
    "10. Next, use a `for` loop to iterate through `medical_records`.\n",
    "\n",
    "    Inside of the loop, create an empty list called `record_clean`. We'll use this list to store a formatted version of each medical record."
   ]
  },
  {
   "cell_type": "code",
   "execution_count": 10,
   "id": "1d13c527",
   "metadata": {},
   "outputs": [
    {
     "name": "stdout",
     "output_type": "stream",
     "text": [
      "[['Marina Allison', '27', '31.1', '$7010.0'], ['Markus Valdez', '30', '22.4', '$4050.0'], ['Connie Ballard', '43', '25.3', '$12060.0'], ['Darnell Weber', '35', '20.6', '$7500.0'], ['Sylvie Charles', '22', '22.1', '$3022.0'], ['Vinay Padilla', '24', '26.9', '$4620.0'], ['Meredith Santiago', '51', '29.3', '$16330.0'], ['Andre Mccarty', '19', '22.7', '$2900.0'], ['Lorena Hodson', '65', '33.1', '$19370.0'], ['Isaac Vu', '34', '24.8', '$7045.0']]\n"
     ]
    }
   ],
   "source": [
    "for record in medical_records:\n",
    "    record_clean = [x.strip() for x in record]\n",
    "    medical_records_clean.append(record_clean)\n",
    "\n",
    "print(medical_records_clean)"
   ]
  },
  {
   "cell_type": "markdown",
   "id": "e27bf497",
   "metadata": {},
   "source": [
    "## Analyzing the cleaned data"
   ]
  },
  {
   "cell_type": "markdown",
   "id": "9e73a4f2",
   "metadata": {},
   "source": [
    "Using comprehensions to analyze"
   ]
  },
  {
   "cell_type": "markdown",
   "id": "283e1a2f",
   "metadata": {},
   "source": [
    "Names"
   ]
  },
  {
   "cell_type": "code",
   "execution_count": 12,
   "id": "ee24f738",
   "metadata": {},
   "outputs": [
    {
     "name": "stdout",
     "output_type": "stream",
     "text": [
      "MARINA ALLISON\n",
      "MARKUS VALDEZ\n",
      "CONNIE BALLARD\n",
      "DARNELL WEBER\n",
      "SYLVIE CHARLES\n",
      "VINAY PADILLA\n",
      "MEREDITH SANTIAGO\n",
      "ANDRE MCCARTY\n",
      "LORENA HODSON\n",
      "ISAAC VU\n"
     ]
    }
   ],
   "source": [
    "for record in medical_records_clean:\n",
    "  print(record[0].upper())"
   ]
  },
  {
   "cell_type": "markdown",
   "id": "637e6b7e",
   "metadata": {},
   "source": [
    "Creating lists of individual values using comprehensions."
   ]
  },
  {
   "cell_type": "code",
   "execution_count": 21,
   "id": "2e370347",
   "metadata": {},
   "outputs": [],
   "source": [
    "names = [record[0] for record in medical_records_clean]\n",
    "ages = [record[1] for record in medical_records_clean]\n",
    "bmis = [record[2] for record in medical_records_clean]\n",
    "insurance_costs = [record[3] for record in medical_records_clean]\n"
   ]
  },
  {
   "cell_type": "code",
   "execution_count": 53,
   "id": "72fd0613",
   "metadata": {
    "scrolled": true
   },
   "outputs": [
    {
     "name": "stdout",
     "output_type": "stream",
     "text": [
      "['Marina Allison', 'Markus Valdez', 'Connie Ballard', 'Darnell Weber', 'Sylvie Charles', 'Vinay Padilla', 'Meredith Santiago', 'Andre Mccarty', 'Lorena Hodson', 'Isaac Vu']\n",
      "\n",
      "\n",
      "['27', '30', '43', '35', '22', '24', '51', '19', '65', '34']\n",
      "\n",
      "\n",
      "['31.1', '22.4', '25.3', '20.6', '22.1', '26.9', '29.3', '22.7', '33.1', '24.8']\n",
      "\n",
      "\n",
      "['$7010.0', '$4050.0', '$12060.0', '$7500.0', '$3022.0', '$4620.0', '$16330.0', '$2900.0', '$19370.0', '$7045.0']\n"
     ]
    }
   ],
   "source": [
    "print(names)\n",
    "print(\"\\n\")\n",
    "print(ages)\n",
    "print(\"\\n\")\n",
    "print(bmis)\n",
    "print(\"\\n\")\n",
    "print(insurance_costs)"
   ]
  },
  {
   "cell_type": "markdown",
   "id": "c5ec3f19",
   "metadata": {},
   "source": [
    "### Creating averages of bmi and cost"
   ]
  },
  {
   "cell_type": "code",
   "execution_count": 27,
   "id": "303e90dd",
   "metadata": {},
   "outputs": [
    {
     "name": "stdout",
     "output_type": "stream",
     "text": [
      "258.3\n"
     ]
    }
   ],
   "source": [
    "total_bmi = sum(float(x) for x in bmis)\n",
    "print(total_bmi)"
   ]
  },
  {
   "cell_type": "code",
   "execution_count": 33,
   "id": "b174204c",
   "metadata": {},
   "outputs": [
    {
     "name": "stdout",
     "output_type": "stream",
     "text": [
      "The average BMI in this list is 25.83\n"
     ]
    }
   ],
   "source": [
    "average_bmi =  round(total_bmi / len(bmis),2)\n",
    "print(\"The average BMI in this list is {}\".format(average_bmi))"
   ]
  },
  {
   "cell_type": "code",
   "execution_count": 44,
   "id": "fc16ab5d",
   "metadata": {},
   "outputs": [
    {
     "name": "stdout",
     "output_type": "stream",
     "text": [
      "The average insurance cost from our list is $8390.7\n"
     ]
    }
   ],
   "source": [
    "total_insurance_cost = sum(float(x.replace(\"$\",\" \")) for x in insurance_costs)\n",
    "average_insurance_cost = round(total_insurance_cost / len(insurance_costs),2)\n",
    "\n",
    "print(\"The average insurance cost from our list is ${}\".format(average_insurance_cost))"
   ]
  }
 ],
 "metadata": {
  "kernelspec": {
   "display_name": "Python 3 (ipykernel)",
   "language": "python",
   "name": "python3"
  },
  "language_info": {
   "codemirror_mode": {
    "name": "ipython",
    "version": 3
   },
   "file_extension": ".py",
   "mimetype": "text/x-python",
   "name": "python",
   "nbconvert_exporter": "python",
   "pygments_lexer": "ipython3",
   "version": "3.10.9"
  }
 },
 "nbformat": 4,
 "nbformat_minor": 5
}
